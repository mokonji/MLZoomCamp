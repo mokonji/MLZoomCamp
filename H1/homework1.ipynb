{
 "cells": [
  {
   "cell_type": "code",
   "execution_count": 39,
   "metadata": {},
   "outputs": [],
   "source": [
    "import pandas as pd\n",
    "import os\n",
    "import numpy as np"
   ]
  },
  {
   "cell_type": "markdown",
   "metadata": {},
   "source": [
    "Q1. Pandas version"
   ]
  },
  {
   "cell_type": "code",
   "execution_count": 2,
   "metadata": {},
   "outputs": [
    {
     "data": {
      "text/plain": [
       "'2.2.2'"
      ]
     },
     "execution_count": 2,
     "metadata": {},
     "output_type": "execute_result"
    }
   ],
   "source": [
    "pd.__version__\n"
   ]
  },
  {
   "cell_type": "code",
   "execution_count": 11,
   "metadata": {},
   "outputs": [],
   "source": [
    "home_dir = os.getcwd()"
   ]
  },
  {
   "cell_type": "code",
   "execution_count": 12,
   "metadata": {},
   "outputs": [],
   "source": [
    "df = pd.read_csv(f'{home_dir}/laptops.csv')"
   ]
  },
  {
   "cell_type": "markdown",
   "metadata": {},
   "source": [
    "Q2. Records count - How many records are in the dataset?"
   ]
  },
  {
   "cell_type": "code",
   "execution_count": 14,
   "metadata": {},
   "outputs": [
    {
     "name": "stdout",
     "output_type": "stream",
     "text": [
      "2160\n"
     ]
    }
   ],
   "source": [
    "record_count = len(df)\n",
    "print (record_count)"
   ]
  },
  {
   "cell_type": "markdown",
   "metadata": {},
   "source": [
    "Q3. Laptop brands - How many laptop brands are presented in the dataset?"
   ]
  },
  {
   "cell_type": "code",
   "execution_count": 15,
   "metadata": {},
   "outputs": [
    {
     "name": "stdout",
     "output_type": "stream",
     "text": [
      "27\n"
     ]
    }
   ],
   "source": [
    "df_laptop_brands = df['Brand'].nunique()\n",
    "print(df_laptop_brands)"
   ]
  },
  {
   "cell_type": "markdown",
   "metadata": {},
   "source": [
    "Q4. Missing values - How many columns in the dataset have missing values?"
   ]
  },
  {
   "cell_type": "code",
   "execution_count": 19,
   "metadata": {},
   "outputs": [
    {
     "name": "stdout",
     "output_type": "stream",
     "text": [
      "Number of columns with missing values: 3\n",
      "Columns with missing values:\n",
      "Storage type      42\n",
      "GPU             1371\n",
      "Screen             4\n",
      "dtype: int64\n"
     ]
    }
   ],
   "source": [
    "# Count missing values in each column\n",
    "missing_values_per_column = df.isnull().sum()\n",
    "\n",
    "# Filter columns that have missing values\n",
    "columns_with_missing_values = missing_values_per_column[missing_values_per_column > 0]\n",
    "\n",
    "# Calculate how many columns have missing values\n",
    "num_columns_with_missing_values = len(columns_with_missing_values)\n",
    "\n",
    "print(f\"Number of columns with missing values: {num_columns_with_missing_values}\")\n",
    "print(\"Columns with missing values:\")\n",
    "print(columns_with_missing_values)"
   ]
  },
  {
   "cell_type": "markdown",
   "metadata": {},
   "source": [
    "Q5. Maximum final price - What's the maximum final price of Dell notebooks in the dataset?"
   ]
  },
  {
   "cell_type": "code",
   "execution_count": 23,
   "metadata": {},
   "outputs": [
    {
     "name": "stdout",
     "output_type": "stream",
     "text": [
      "The maximum final price of Dell notebooks is: 3936.0\n"
     ]
    }
   ],
   "source": [
    "# Filter rows where Brand is \"Dell\"\n",
    "dell_notebooks = df[df['Brand'] == 'Dell']\n",
    "\n",
    "\n",
    "# Find the maximum final price for Dell notebooks\n",
    "max_final_price = dell_notebooks['Final Price'].max()\n",
    "\n",
    "print(f\"The maximum final price of Dell notebooks is: {max_final_price}\")"
   ]
  },
  {
   "cell_type": "markdown",
   "metadata": {},
   "source": [
    "Q6. Median value of Screen"
   ]
  },
  {
   "cell_type": "code",
   "execution_count": 24,
   "metadata": {},
   "outputs": [
    {
     "name": "stdout",
     "output_type": "stream",
     "text": [
      "The median value of the Screen column is: 15.6\n"
     ]
    }
   ],
   "source": [
    "# Find the median value of Screen column in the dataset.\n",
    "# Convert the 'Screen' column to numeric if it's not already\n",
    "# This assumes the 'Screen' column has numeric values like screen size (e.g., 13.3, 15.6)\n",
    "df['Screen'] = pd.to_numeric(df['Screen'], errors='coerce')\n",
    "\n",
    "# Find the median value of the 'Screen' column\n",
    "median_screen_value = df['Screen'].median()\n",
    "\n",
    "print(f\"The median value of the Screen column is: {median_screen_value}\")"
   ]
  },
  {
   "cell_type": "code",
   "execution_count": 25,
   "metadata": {},
   "outputs": [
    {
     "name": "stdout",
     "output_type": "stream",
     "text": [
      "The most frequent value of the Screen column is: 15.6\n"
     ]
    }
   ],
   "source": [
    "#Next, calculate the most frequent value of the same Screen column.\n",
    "# Convert the 'Screen' column to numeric if it's not already\n",
    "df['Screen'] = pd.to_numeric(df['Screen'], errors='coerce')\n",
    "\n",
    "# Find the most frequent value (mode) in the 'Screen' column\n",
    "most_frequent_screen_value = df['Screen'].mode()[0]\n",
    "\n",
    "print(f\"The most frequent value of the Screen column is: {most_frequent_screen_value}\")"
   ]
  },
  {
   "cell_type": "code",
   "execution_count": 28,
   "metadata": {},
   "outputs": [
    {
     "name": "stderr",
     "output_type": "stream",
     "text": [
      "C:\\Users\\Admin\\AppData\\Local\\Temp\\ipykernel_20116\\829428705.py:9: FutureWarning: A value is trying to be set on a copy of a DataFrame or Series through chained assignment using an inplace method.\n",
      "The behavior will change in pandas 3.0. This inplace method will never work because the intermediate object on which we are setting values always behaves as a copy.\n",
      "\n",
      "For example, when doing 'df[col].method(value, inplace=True)', try using 'df.method({col: value}, inplace=True)' or df[col] = df[col].method(value) instead, to perform the operation inplace on the original object.\n",
      "\n",
      "\n",
      "  df['Screen'].fillna(most_frequent_screen_value, inplace=True)\n"
     ]
    }
   ],
   "source": [
    "#Use fillna method to fill the missing values in Screen column with the most frequent value from the previous step.\n",
    "# Convert the 'Screen' column to numeric if it's not already\n",
    "df['Screen'] = pd.to_numeric(df['Screen'], errors='coerce')\n",
    "\n",
    "# Find the most frequent value (mode) in the 'Screen' column\n",
    "most_frequent_screen_value = df['Screen'].mode()[0]\n",
    "\n",
    "# Use fillna() to replace missing values in the 'Screen' column with the most frequent value\n",
    "df['Screen'].fillna(most_frequent_screen_value, inplace=True)"
   ]
  },
  {
   "cell_type": "code",
   "execution_count": 29,
   "metadata": {},
   "outputs": [
    {
     "name": "stdout",
     "output_type": "stream",
     "text": [
      "The new median value of the Screen column is: 15.6\n"
     ]
    }
   ],
   "source": [
    "# Now, calculate the median of the 'Screen' column\n",
    "new_median_screen_value = df['Screen'].median()\n",
    "\n",
    "print(f\"The new median value of the Screen column is: {new_median_screen_value}\")"
   ]
  },
  {
   "cell_type": "markdown",
   "metadata": {},
   "source": [
    "Q7. Sum of weights"
   ]
  },
  {
   "cell_type": "code",
   "execution_count": 48,
   "metadata": {},
   "outputs": [
    {
     "name": "stdout",
     "output_type": "stream",
     "text": [
      "Inverse of XTX:\n",
      "[[ 2.78025381e-01 -1.51791334e-03 -1.00809855e-01]\n",
      " [-1.51791334e-03  1.58286725e-05  4.48052175e-04]\n",
      " [-1.00809855e-01  4.48052175e-04  3.87214888e-02]]\n",
      "Result w:\n",
      "91.2998806299555\n"
     ]
    }
   ],
   "source": [
    "# 1 Filter the DataFrame to select only the rows where the 'Brand' column is 'Innjoo'\n",
    "innjoo_laptops = df[df['Brand'] == 'Innjoo']\n",
    "\n",
    "# 2 Select only the 'RAM', 'Storage', and 'Screen' columns\n",
    "selected_columns = innjoo_laptops[['RAM', 'Storage', 'Screen']]\n",
    "\n",
    "# 3 Get the underlying NumPy array and assign it to X\n",
    "X = selected_columns.to_numpy()\n",
    "\n",
    "\n",
    "# 4 Compute matrix-matrix multiplication between the transpose of X and X. To get the transpose, use X.T. Let's call the result XTX.\n",
    "X_transpose = X.T\n",
    "\n",
    "XTX = np.dot(X_transpose, X)\n",
    "\n",
    "\n",
    "# 5 Compute the inverse of XTX\n",
    "try:\n",
    "    XTX_inv = np.linalg.inv(XTX)\n",
    "    print(\"Inverse of XTX:\")\n",
    "    print(XTX_inv)\n",
    "except np.linalg.LinAlgError:\n",
    "    print(\"The matrix XTX is singular and cannot be inverted.\")\n",
    "    \n",
    "    \n",
    "# 6 Create the array y with the specified values\n",
    "y = np.array([1100, 1300, 800, 900, 1000, 1100])\n",
    "\n",
    "# Perform the operations only if XTX_inv is valid\n",
    "if XTX_inv is not None:\n",
    "    # Multiply the inverse of XTX with the transpose of X\n",
    "    result = XTX_inv @ X_transpose\n",
    "    \n",
    "    # Now multiply the result by y to get w\n",
    "    w = result @ y\n",
    "    \n",
    "    # Calculate the sum of all elements in w\n",
    "    sum_of_w = np.sum(w)\n",
    "    # Print the final result w\n",
    "    print(\"Result w:\")\n",
    "    print(sum_of_w)"
   ]
  }
 ],
 "metadata": {
  "kernelspec": {
   "display_name": "ML",
   "language": "python",
   "name": "python3"
  },
  "language_info": {
   "codemirror_mode": {
    "name": "ipython",
    "version": 3
   },
   "file_extension": ".py",
   "mimetype": "text/x-python",
   "name": "python",
   "nbconvert_exporter": "python",
   "pygments_lexer": "ipython3",
   "version": "3.10.14"
  }
 },
 "nbformat": 4,
 "nbformat_minor": 2
}
